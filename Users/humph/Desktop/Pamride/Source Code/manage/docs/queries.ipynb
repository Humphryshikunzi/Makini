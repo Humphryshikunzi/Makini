{
 "cells": [
  {
   "cell_type": "code",
   "execution_count": 2,
   "id": "5a1ccbb5",
   "metadata": {},
   "outputs": [
    {
     "ename": "KeyError",
     "evalue": "'users(where '",
     "output_type": "error",
     "traceback": [
      "\u001b[1;31m---------------------------------------------------------------------------\u001b[0m",
      "\u001b[1;31mKeyError\u001b[0m                                  Traceback (most recent call last)",
      "\u001b[1;32m~\\AppData\\Local\\Temp/ipykernel_9536/4088778740.py\u001b[0m in \u001b[0;36m<module>\u001b[1;34m\u001b[0m\n\u001b[0;32m      1\u001b[0m \u001b[0mcustomer_email\u001b[0m \u001b[1;33m=\u001b[0m \u001b[1;34m'eduuh@safiricar.com'\u001b[0m\u001b[1;33m\u001b[0m\u001b[1;33m\u001b[0m\u001b[0m\n\u001b[1;32m----> 2\u001b[1;33m query = \"\"\"query {users(where : { userName :{eq:{0}}}){\\\n\u001b[0m\u001b[0;32m      3\u001b[0m                         \u001b[0memail\u001b[0m\u001b[1;33m,\u001b[0m\u001b[0mlastName\u001b[0m\u001b[1;33m,\u001b[0m\u001b[0mid\u001b[0m\u001b[1;33m,\u001b[0m\u001b[0misActive\u001b[0m\u001b[1;33m,\u001b[0m \u001b[0mnationalId\u001b[0m\u001b[1;33m,\u001b[0m \u001b[0mphoneNumber\u001b[0m\u001b[1;33m,\u001b[0m \u001b[0muserName\u001b[0m\u001b[0;31m\\\u001b[0m\u001b[1;33m\u001b[0m\u001b[1;33m\u001b[0m\u001b[0m\n\u001b[0;32m      4\u001b[0m                     }\\\n\u001b[0;32m      5\u001b[0m                 }\"\"\".format(customer_email)\n",
      "\u001b[1;31mKeyError\u001b[0m: 'users(where '"
     ]
    }
   ],
   "source": [
    "customer_email = 'eduuh@safiricar.com'\n",
    "query = \"\"\"query {users(where : { userName :{eq:{0}}}){\\\n",
    "                        email,lastName,id,isActive, nationalId, phoneNumber, userName\\\n",
    "                    }\\\n",
    "                }\"\"\".format(customer_email)\n",
    "print(query)"
   ]
  },
  {
   "cell_type": "code",
   "execution_count": 6,
   "id": "959c32f8",
   "metadata": {},
   "outputs": [
    {
     "name": "stdout",
     "output_type": "stream",
     "text": [
      "query {users(where : { userName :{eq:\"eduuh@safiricar.com\"}}){email,lastName,id,isActive, nationalId, phoneNumber, userName}}\n"
     ]
    }
   ],
   "source": [
    "customer_email = \"eduuh@safiricar.com\"\n",
    "part_1 = 'query {users(where : { userName :{eq:' + \"\\\"{}\\\"\".format(customer_email) + '}}){email,lastName,id,isActive, nationalId, phoneNumber, userName}}'\n",
    "print(part_1)"
   ]
  },
  {
   "cell_type": "code",
   "execution_count": null,
   "id": "fe953335",
   "metadata": {},
   "outputs": [],
   "source": []
  }
 ],
 "metadata": {
  "kernelspec": {
   "display_name": "Python 3 (ipykernel)",
   "language": "python",
   "name": "python3"
  },
  "language_info": {
   "codemirror_mode": {
    "name": "ipython",
    "version": 3
   },
   "file_extension": ".py",
   "mimetype": "text/x-python",
   "name": "python",
   "nbconvert_exporter": "python",
   "pygments_lexer": "ipython3",
   "version": "3.8.3"
  }
 },
 "nbformat": 4,
 "nbformat_minor": 5
}
